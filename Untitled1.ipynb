{
 "cells": [
  {
   "cell_type": "code",
   "execution_count": 2,
   "id": "451da47e",
   "metadata": {},
   "outputs": [
    {
     "name": "stdout",
     "output_type": "stream",
     "text": [
      "\r",
      "[*********************100%%**********************]  1 of 1 completed"
     ]
    },
    {
     "name": "stderr",
     "output_type": "stream",
     "text": [
      "\n",
      "1 Failed download:\n",
      "['AAPL']: OperationalError('unable to open database file')\n"
     ]
    },
    {
     "name": "stdout",
     "output_type": "stream",
     "text": [
      "\n"
     ]
    }
   ],
   "source": [
    "import yfinance as yf\n",
    "import numpy as np\n",
    "import pandas as pd\n",
    "import matplotlib as mpl\n",
    "data=  yf.download(\"AAPL\", start=\"2021-03-01\", end=\"2021-04-01\")"
   ]
  },
  {
   "cell_type": "code",
   "execution_count": null,
   "id": "fef02d2f",
   "metadata": {},
   "outputs": [],
   "source": [
    "# data=pd.read_csv(\"C:/Users/yueya/OneDrive - University of Westminster/2023-24/CMF/VOD.L.csv\")"
   ]
  },
  {
   "cell_type": "code",
   "execution_count": 6,
   "id": "8c37c4a9",
   "metadata": {},
   "outputs": [
    {
     "data": {
      "text/html": [
       "<div>\n",
       "<style scoped>\n",
       "    .dataframe tbody tr th:only-of-type {\n",
       "        vertical-align: middle;\n",
       "    }\n",
       "\n",
       "    .dataframe tbody tr th {\n",
       "        vertical-align: top;\n",
       "    }\n",
       "\n",
       "    .dataframe thead th {\n",
       "        text-align: right;\n",
       "    }\n",
       "</style>\n",
       "<table border=\"1\" class=\"dataframe\">\n",
       "  <thead>\n",
       "    <tr style=\"text-align: right;\">\n",
       "      <th></th>\n",
       "      <th>Date</th>\n",
       "      <th>Open</th>\n",
       "      <th>High</th>\n",
       "      <th>Low</th>\n",
       "      <th>Close</th>\n",
       "      <th>Adj Close</th>\n",
       "      <th>Volume</th>\n",
       "    </tr>\n",
       "  </thead>\n",
       "  <tbody>\n",
       "    <tr>\n",
       "      <th>0</th>\n",
       "      <td>2022-09-23</td>\n",
       "      <td>109.059998</td>\n",
       "      <td>109.919998</td>\n",
       "      <td>107.480003</td>\n",
       "      <td>108.120003</td>\n",
       "      <td>97.075310</td>\n",
       "      <td>105623844.0</td>\n",
       "    </tr>\n",
       "    <tr>\n",
       "      <th>1</th>\n",
       "      <td>2022-09-26</td>\n",
       "      <td>109.760002</td>\n",
       "      <td>109.900002</td>\n",
       "      <td>105.680000</td>\n",
       "      <td>106.660004</td>\n",
       "      <td>95.764450</td>\n",
       "      <td>122626813.0</td>\n",
       "    </tr>\n",
       "    <tr>\n",
       "      <th>2</th>\n",
       "      <td>2022-09-27</td>\n",
       "      <td>107.180000</td>\n",
       "      <td>107.739998</td>\n",
       "      <td>105.558998</td>\n",
       "      <td>105.559998</td>\n",
       "      <td>94.776810</td>\n",
       "      <td>95417607.0</td>\n",
       "    </tr>\n",
       "    <tr>\n",
       "      <th>3</th>\n",
       "      <td>2022-09-28</td>\n",
       "      <td>105.540001</td>\n",
       "      <td>105.870003</td>\n",
       "      <td>102.239998</td>\n",
       "      <td>105.120003</td>\n",
       "      <td>94.381767</td>\n",
       "      <td>108745608.0</td>\n",
       "    </tr>\n",
       "    <tr>\n",
       "      <th>4</th>\n",
       "      <td>2022-09-29</td>\n",
       "      <td>104.779999</td>\n",
       "      <td>105.419998</td>\n",
       "      <td>101.199997</td>\n",
       "      <td>101.839996</td>\n",
       "      <td>91.436813</td>\n",
       "      <td>99746684.0</td>\n",
       "    </tr>\n",
       "  </tbody>\n",
       "</table>\n",
       "</div>"
      ],
      "text/plain": [
       "         Date        Open        High         Low       Close  Adj Close  \\\n",
       "0  2022-09-23  109.059998  109.919998  107.480003  108.120003  97.075310   \n",
       "1  2022-09-26  109.760002  109.900002  105.680000  106.660004  95.764450   \n",
       "2  2022-09-27  107.180000  107.739998  105.558998  105.559998  94.776810   \n",
       "3  2022-09-28  105.540001  105.870003  102.239998  105.120003  94.381767   \n",
       "4  2022-09-29  104.779999  105.419998  101.199997  101.839996  91.436813   \n",
       "\n",
       "        Volume  \n",
       "0  105623844.0  \n",
       "1  122626813.0  \n",
       "2   95417607.0  \n",
       "3  108745608.0  \n",
       "4   99746684.0  "
      ]
     },
     "execution_count": 6,
     "metadata": {},
     "output_type": "execute_result"
    }
   ],
   "source": [
    "data.head()"
   ]
  },
  {
   "cell_type": "code",
   "execution_count": null,
   "id": "f432b3ae",
   "metadata": {},
   "outputs": [],
   "source": []
  }
 ],
 "metadata": {
  "kernelspec": {
   "display_name": "Python 3 (ipykernel)",
   "language": "python",
   "name": "python3"
  },
  "language_info": {
   "codemirror_mode": {
    "name": "ipython",
    "version": 3
   },
   "file_extension": ".py",
   "mimetype": "text/x-python",
   "name": "python",
   "nbconvert_exporter": "python",
   "pygments_lexer": "ipython3",
   "version": "3.11.4"
  }
 },
 "nbformat": 4,
 "nbformat_minor": 5
}
